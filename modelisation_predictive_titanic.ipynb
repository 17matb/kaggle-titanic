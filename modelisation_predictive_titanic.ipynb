{
 "cells": [
  {
   "cell_type": "markdown",
   "id": "f1722800",
   "metadata": {},
   "source": [
    "**Modélisation prédictive avec le jeu de données Titanic (Kaggle Beginners)**\n",
    "\n",
    "Ce projet vise à initier les apprenants à la résolution d’un problème réel de classification supervisée à partir de données ouvertes. À partir du jeu de données Titanic (projet débutant de Kaggle), ils construisent un modèle prédictif pour estimer la probabilité de survie des passagers, en mobilisant les étapes clés d’un pipeline de machine learning."
   ]
  },
  {
   "cell_type": "code",
   "execution_count": null,
   "id": "a8a79819",
   "metadata": {},
   "outputs": [],
   "source": []
  }
 ],
 "metadata": {
  "language_info": {
   "name": "python"
  }
 },
 "nbformat": 4,
 "nbformat_minor": 5
}
